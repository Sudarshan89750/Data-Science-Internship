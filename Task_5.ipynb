{
 "cells": [
  {
   "cell_type": "markdown",
   "id": "ebe6a744-1157-4ef9-ba10-4745b8f2656b",
   "metadata": {},
   "source": [
    "## Task 5"
   ]
  },
  {
   "cell_type": "markdown",
   "id": "52be8ee9-5606-4f56-beb5-c368186e46c5",
   "metadata": {},
   "source": [
    "#### Iris flower dataset containing sepal and petal measurements for three species of iris flowers. \n",
    "* Print the names of all iris flowers with petal length greater than 5.\n",
    "* Sort and print the names of iris flowers with sepal width less than 3.\n",
    "* How many samples are there for each species?\n",
    "* Print the sepal length and width of iris flowers (non-null values) with petal width less than 1.  \n",
    "* How many iris flowers have petal length greater than 6 and sepal width less than 3?\n",
    "*  How many samples are there for each species in total?\n",
    "* Print the names of iris flowers with sepal length greater than 7 and petal width less than 0.3.\n",
    "* Print the names of iris flowers with the highest and lowest petal lengths.\n",
    "* Find information about the iris flowers with the widest sepals.\n",
    "* Plot the distribution of petal lengths for each species. "
   ]
  },
  {
   "cell_type": "markdown",
   "id": "9b6dfe55-54e1-4226-bfb9-6a655ff43af3",
   "metadata": {},
   "source": [
    "* Name    : Sudarshan Pawar \n",
    "* College : Keystone School of Engineering \n",
    "* Class   : TE/B\n"
   ]
  },
  {
   "cell_type": "code",
   "execution_count": 7,
   "id": "cbc5ceda-a768-4b95-bb16-e8050c9b31d8",
   "metadata": {},
   "outputs": [],
   "source": [
    "import pandas as pd\n",
    "import numpy as np \n",
    "import seaborn as sns \n",
    "import matplotlib.pyplot as plt \n"
   ]
  },
  {
   "cell_type": "code",
   "execution_count": null,
   "id": "ad56a9fa-eff8-4288-96e4-ee9ad0d8073e",
   "metadata": {},
   "outputs": [],
   "source": []
  },
  {
   "cell_type": "code",
   "execution_count": 8,
   "id": "4a757502-82e2-4ba6-b489-7a870e3978ed",
   "metadata": {},
   "outputs": [],
   "source": [
    "df=pd.read_csv('iris.csv')"
   ]
  },
  {
   "cell_type": "code",
   "execution_count": 9,
   "id": "d06e7451-7d85-4af1-98c0-0c132ec6bdf8",
   "metadata": {},
   "outputs": [
    {
     "data": {
      "text/html": [
       "<div>\n",
       "<style scoped>\n",
       "    .dataframe tbody tr th:only-of-type {\n",
       "        vertical-align: middle;\n",
       "    }\n",
       "\n",
       "    .dataframe tbody tr th {\n",
       "        vertical-align: top;\n",
       "    }\n",
       "\n",
       "    .dataframe thead th {\n",
       "        text-align: right;\n",
       "    }\n",
       "</style>\n",
       "<table border=\"1\" class=\"dataframe\">\n",
       "  <thead>\n",
       "    <tr style=\"text-align: right;\">\n",
       "      <th></th>\n",
       "      <th>sepal_length</th>\n",
       "      <th>sepal_width</th>\n",
       "      <th>petal_length</th>\n",
       "      <th>petal_width</th>\n",
       "      <th>species</th>\n",
       "    </tr>\n",
       "  </thead>\n",
       "  <tbody>\n",
       "    <tr>\n",
       "      <th>0</th>\n",
       "      <td>5.1</td>\n",
       "      <td>3.5</td>\n",
       "      <td>1.4</td>\n",
       "      <td>0.2</td>\n",
       "      <td>Iris-setosa</td>\n",
       "    </tr>\n",
       "    <tr>\n",
       "      <th>1</th>\n",
       "      <td>4.9</td>\n",
       "      <td>3.0</td>\n",
       "      <td>1.4</td>\n",
       "      <td>0.2</td>\n",
       "      <td>Iris-setosa</td>\n",
       "    </tr>\n",
       "    <tr>\n",
       "      <th>2</th>\n",
       "      <td>4.7</td>\n",
       "      <td>3.2</td>\n",
       "      <td>1.3</td>\n",
       "      <td>0.2</td>\n",
       "      <td>Iris-setosa</td>\n",
       "    </tr>\n",
       "    <tr>\n",
       "      <th>3</th>\n",
       "      <td>4.6</td>\n",
       "      <td>3.1</td>\n",
       "      <td>1.5</td>\n",
       "      <td>0.2</td>\n",
       "      <td>Iris-setosa</td>\n",
       "    </tr>\n",
       "    <tr>\n",
       "      <th>4</th>\n",
       "      <td>5.0</td>\n",
       "      <td>3.6</td>\n",
       "      <td>1.4</td>\n",
       "      <td>0.2</td>\n",
       "      <td>Iris-setosa</td>\n",
       "    </tr>\n",
       "    <tr>\n",
       "      <th>...</th>\n",
       "      <td>...</td>\n",
       "      <td>...</td>\n",
       "      <td>...</td>\n",
       "      <td>...</td>\n",
       "      <td>...</td>\n",
       "    </tr>\n",
       "    <tr>\n",
       "      <th>145</th>\n",
       "      <td>6.7</td>\n",
       "      <td>3.0</td>\n",
       "      <td>5.2</td>\n",
       "      <td>2.3</td>\n",
       "      <td>Iris-virginica</td>\n",
       "    </tr>\n",
       "    <tr>\n",
       "      <th>146</th>\n",
       "      <td>6.3</td>\n",
       "      <td>2.5</td>\n",
       "      <td>5.0</td>\n",
       "      <td>1.9</td>\n",
       "      <td>Iris-virginica</td>\n",
       "    </tr>\n",
       "    <tr>\n",
       "      <th>147</th>\n",
       "      <td>6.5</td>\n",
       "      <td>3.0</td>\n",
       "      <td>5.2</td>\n",
       "      <td>2.0</td>\n",
       "      <td>Iris-virginica</td>\n",
       "    </tr>\n",
       "    <tr>\n",
       "      <th>148</th>\n",
       "      <td>6.2</td>\n",
       "      <td>3.4</td>\n",
       "      <td>5.4</td>\n",
       "      <td>2.3</td>\n",
       "      <td>Iris-virginica</td>\n",
       "    </tr>\n",
       "    <tr>\n",
       "      <th>149</th>\n",
       "      <td>5.9</td>\n",
       "      <td>3.0</td>\n",
       "      <td>5.1</td>\n",
       "      <td>1.8</td>\n",
       "      <td>Iris-virginica</td>\n",
       "    </tr>\n",
       "  </tbody>\n",
       "</table>\n",
       "<p>150 rows × 5 columns</p>\n",
       "</div>"
      ],
      "text/plain": [
       "     sepal_length  sepal_width  petal_length  petal_width         species\n",
       "0             5.1          3.5           1.4          0.2     Iris-setosa\n",
       "1             4.9          3.0           1.4          0.2     Iris-setosa\n",
       "2             4.7          3.2           1.3          0.2     Iris-setosa\n",
       "3             4.6          3.1           1.5          0.2     Iris-setosa\n",
       "4             5.0          3.6           1.4          0.2     Iris-setosa\n",
       "..            ...          ...           ...          ...             ...\n",
       "145           6.7          3.0           5.2          2.3  Iris-virginica\n",
       "146           6.3          2.5           5.0          1.9  Iris-virginica\n",
       "147           6.5          3.0           5.2          2.0  Iris-virginica\n",
       "148           6.2          3.4           5.4          2.3  Iris-virginica\n",
       "149           5.9          3.0           5.1          1.8  Iris-virginica\n",
       "\n",
       "[150 rows x 5 columns]"
      ]
     },
     "execution_count": 9,
     "metadata": {},
     "output_type": "execute_result"
    }
   ],
   "source": [
    "df"
   ]
  },
  {
   "cell_type": "markdown",
   "id": "957af354-f217-4481-8aeb-e015e4a9e595",
   "metadata": {},
   "source": [
    "#### Print the names of all iris flowers with petal length greater than 5."
   ]
  },
  {
   "cell_type": "code",
   "execution_count": 10,
   "id": "950d0c83-afb5-4224-932f-7ec358806dab",
   "metadata": {},
   "outputs": [
    {
     "name": "stdout",
     "output_type": "stream",
     "text": [
      "Iris flowers with petal length greater than 5:\n",
      "['Iris-versicolor' 'Iris-virginica']\n"
     ]
    }
   ],
   "source": [
    "print(\"Iris flowers with petal length greater than 5:\")\n",
    "print(df[df['petal_length'] > 5]['species'].unique())"
   ]
  },
  {
   "cell_type": "markdown",
   "id": "de097b6a-ddda-46d9-b5dc-555c90f8f09f",
   "metadata": {},
   "source": [
    "#### Sort and print the names of iris flowers with sepal width less than 3."
   ]
  },
  {
   "cell_type": "code",
   "execution_count": 11,
   "id": "1510217d-7677-4806-bee0-cb23ff42551e",
   "metadata": {},
   "outputs": [
    {
     "name": "stdout",
     "output_type": "stream",
     "text": [
      "\n",
      "Iris flowers with sepal width less than 3, sorted:\n",
      "['Iris-setosa' 'Iris-versicolor' 'Iris-virginica']\n"
     ]
    }
   ],
   "source": [
    "print(\"\\nIris flowers with sepal width less than 3, sorted:\")\n",
    "print(df[df['sepal_width'] < 3].sort_values(by='species')['species'].unique())"
   ]
  },
  {
   "cell_type": "markdown",
   "id": "71f91efc-02c7-4303-9705-ea204b164905",
   "metadata": {},
   "source": [
    "#### How many samples are there for each species?"
   ]
  },
  {
   "cell_type": "code",
   "execution_count": 12,
   "id": "72521263-1a0a-4510-a828-b3b6b1f47cb7",
   "metadata": {},
   "outputs": [
    {
     "name": "stdout",
     "output_type": "stream",
     "text": [
      "\n",
      "Number of samples for each species:\n",
      "species\n",
      "Iris-setosa        50\n",
      "Iris-versicolor    50\n",
      "Iris-virginica     50\n",
      "Name: count, dtype: int64\n"
     ]
    }
   ],
   "source": [
    "print(\"\\nNumber of samples for each species:\")\n",
    "print(df['species'].value_counts())"
   ]
  },
  {
   "cell_type": "markdown",
   "id": "ff660de8-d725-4926-bbde-6d1ff8821e3f",
   "metadata": {},
   "source": [
    "#### Print the sepal length and width of iris flowers (non-null values) with petal width less than 1."
   ]
  },
  {
   "cell_type": "code",
   "execution_count": 13,
   "id": "2cb5d8d6-e3c1-405a-bf6e-1558f50615b2",
   "metadata": {},
   "outputs": [
    {
     "name": "stdout",
     "output_type": "stream",
     "text": [
      "\n",
      "Sepal length and width of iris flowers with petal width less than 1:\n",
      "    sepal_length  sepal_width\n",
      "0            5.1          3.5\n",
      "1            4.9          3.0\n",
      "2            4.7          3.2\n",
      "3            4.6          3.1\n",
      "4            5.0          3.6\n",
      "5            5.4          3.9\n",
      "6            4.6          3.4\n",
      "7            5.0          3.4\n",
      "8            4.4          2.9\n",
      "9            4.9          3.1\n",
      "10           5.4          3.7\n",
      "11           4.8          3.4\n",
      "12           4.8          3.0\n",
      "13           4.3          3.0\n",
      "14           5.8          4.0\n",
      "15           5.7          4.4\n",
      "16           5.4          3.9\n",
      "17           5.1          3.5\n",
      "18           5.7          3.8\n",
      "19           5.1          3.8\n",
      "20           5.4          3.4\n",
      "21           5.1          3.7\n",
      "22           4.6          3.6\n",
      "23           5.1          3.3\n",
      "24           4.8          3.4\n",
      "25           5.0          3.0\n",
      "26           5.0          3.4\n",
      "27           5.2          3.5\n",
      "28           5.2          3.4\n",
      "29           4.7          3.2\n",
      "30           4.8          3.1\n",
      "31           5.4          3.4\n",
      "32           5.2          4.1\n",
      "33           5.5          4.2\n",
      "34           4.9          3.1\n",
      "35           5.0          3.2\n",
      "36           5.5          3.5\n",
      "37           4.9          3.1\n",
      "38           4.4          3.0\n",
      "39           5.1          3.4\n",
      "40           5.0          3.5\n",
      "41           4.5          2.3\n",
      "42           4.4          3.2\n",
      "43           5.0          3.5\n",
      "44           5.1          3.8\n",
      "45           4.8          3.0\n",
      "46           5.1          3.8\n",
      "47           4.6          3.2\n",
      "48           5.3          3.7\n",
      "49           5.0          3.3\n"
     ]
    }
   ],
   "source": [
    "print(\"\\nSepal length and width of iris flowers with petal width less than 1:\")\n",
    "print(df[(df['petal_width'] < 1) & (df['sepal_length'].notnull()) & (df['sepal_width'].notnull())][['sepal_length', 'sepal_width']])\n"
   ]
  },
  {
   "cell_type": "markdown",
   "id": "cd827daa-8f13-4a9f-b648-c1605abf72b9",
   "metadata": {},
   "source": [
    "#### How many iris flowers have petal length greater than 6 and sepal width less than 3?"
   ]
  },
  {
   "cell_type": "code",
   "execution_count": 14,
   "id": "7edf3fb6-b0f2-4c77-9848-3026d12b02cf",
   "metadata": {},
   "outputs": [
    {
     "name": "stdout",
     "output_type": "stream",
     "text": [
      "\n",
      "Number of iris flowers with petal length > 6 and sepal width < 3:\n",
      "4\n"
     ]
    }
   ],
   "source": [
    "print(\"\\nNumber of iris flowers with petal length > 6 and sepal width < 3:\")\n",
    "print(len(df[(df['petal_length'] > 6) & (df['sepal_width'] < 3)]))\n"
   ]
  },
  {
   "cell_type": "markdown",
   "id": "2096cebb-d79d-44d0-8781-3c046d83b18e",
   "metadata": {},
   "source": [
    "#### How many samples are there for each species in total?"
   ]
  },
  {
   "cell_type": "code",
   "execution_count": 15,
   "id": "6ecb3fae-8da2-4ddb-97a9-c5477692c2da",
   "metadata": {},
   "outputs": [
    {
     "name": "stdout",
     "output_type": "stream",
     "text": [
      "\n",
      "Total number of samples for each species:\n",
      "species\n",
      "Iris-setosa        50\n",
      "Iris-versicolor    50\n",
      "Iris-virginica     50\n",
      "dtype: int64\n"
     ]
    }
   ],
   "source": [
    "print(\"\\nTotal number of samples for each species:\")\n",
    "print(df.groupby('species').size())\n"
   ]
  },
  {
   "cell_type": "markdown",
   "id": "2f9e5fd0-1e8e-436a-a5a1-d0db4be950d6",
   "metadata": {},
   "source": [
    "#### Print the names of iris flowers with sepal length greater than 7 and petal width less than 0.3.\n"
   ]
  },
  {
   "cell_type": "code",
   "execution_count": 16,
   "id": "4cf1a78b-fda8-42f7-b9dc-a42c92f71e66",
   "metadata": {},
   "outputs": [
    {
     "name": "stdout",
     "output_type": "stream",
     "text": [
      "\n",
      "Iris flowers with sepal length > 7 and petal width < 0.3:\n",
      "[]\n"
     ]
    }
   ],
   "source": [
    "print(\"\\nIris flowers with sepal length > 7 and petal width < 0.3:\")\n",
    "print(df[(df['sepal_length'] > 7) & (df['petal_width'] < 0.3)]['species'].unique())\n"
   ]
  },
  {
   "cell_type": "markdown",
   "id": "02042d77-2a84-453b-9991-ce61e7b4d577",
   "metadata": {},
   "source": [
    "#### Print the names of iris flowers with the highest and lowest petal lengths.\n"
   ]
  },
  {
   "cell_type": "code",
   "execution_count": 17,
   "id": "d784661e-83f6-4d09-a6f8-717debf1d4f2",
   "metadata": {},
   "outputs": [
    {
     "name": "stdout",
     "output_type": "stream",
     "text": [
      "\n",
      "Iris flower with the highest petal length: Iris-virginica\n",
      "Iris flower with the lowest petal length: Iris-setosa\n"
     ]
    }
   ],
   "source": [
    "max_petal_length = df.loc[df['petal_length'].idxmax()]['species']\n",
    "min_petal_length = df.loc[df['petal_length'].idxmin()]['species']\n",
    "print(\"\\nIris flower with the highest petal length:\", max_petal_length)\n",
    "print(\"Iris flower with the lowest petal length:\", min_petal_length)\n"
   ]
  },
  {
   "cell_type": "markdown",
   "id": "a6f39ed2-1e94-4a5e-8317-0b98693138bb",
   "metadata": {},
   "source": [
    "#### Find information about the iris flowers with the widest sepals.\n"
   ]
  },
  {
   "cell_type": "code",
   "execution_count": 18,
   "id": "76f3e45b-bcde-4664-be3b-6a9c4e4beb5a",
   "metadata": {},
   "outputs": [
    {
     "name": "stdout",
     "output_type": "stream",
     "text": [
      "\n",
      "Information about the iris flowers with the widest sepals:\n",
      "    sepal_length  sepal_width  petal_length  petal_width      species\n",
      "15           5.7          4.4           1.5          0.4  Iris-setosa\n"
     ]
    }
   ],
   "source": [
    "widest_sepals = df[df['sepal_width'] == df['sepal_width'].max()]\n",
    "print(\"\\nInformation about the iris flowers with the widest sepals:\")\n",
    "print(widest_sepals)\n"
   ]
  },
  {
   "cell_type": "markdown",
   "id": "b57a69bc-8c76-48eb-b345-dcf712fa1b3b",
   "metadata": {},
   "source": [
    "\n",
    "#### Plot the distribution of petal lengths for each species."
   ]
  },
  {
   "cell_type": "code",
   "execution_count": 19,
   "id": "06f587f2-2f5e-4fae-8ab5-355d1e15a3ce",
   "metadata": {},
   "outputs": [
    {
     "data": {
      "image/png": "[encoded data removed]",
      "text/plain": [
       "<Figure size 1000x600 with 1 Axes>"
      ]
     },
     "metadata": {},
     "output_type": "display_data"
    }
   ],
   "source": [
    "plt.figure(figsize=(10, 6))\n",
    "for species in df['species'].unique():\n",
    "    species_data = df[df['species'] == species]['petal_length']\n",
    "    plt.hist(species_data, bins=10, alpha=0.9, label=species)\n",
    "plt.xlabel('Petal Length')\n",
    "plt.ylabel('Frequency')\n",
    "plt.title('Distribution of Petal Lengths for Each Species')\n",
    "plt.legend()\n",
    "plt.grid(True)\n",
    "plt.show()"
   ]
  },
  {
   "cell_type": "code",
   "execution_count": null,
   "id": "3340f394-1a71-47a6-8a92-da3070b81dab",
   "metadata": {},
   "outputs": [],
   "source": []
  },
  {
   "cell_type": "code",
   "execution_count": null,
   "id": "7b3f18cb-ec40-400b-823c-cf7fde092c99",
   "metadata": {},
   "outputs": [],
   "source": []
  }
 ],
 "metadata": {
  "kernelspec": {
   "display_name": "Python 3 (ipykernel)",
   "language": "python",
   "name": "python3"
  },
  "language_info": {
   "codemirror_mode": {
    "name": "ipython",
    "version": 3
   },
   "file_extension": ".py",
   "mimetype": "text/x-python",
   "name": "python",
   "nbconvert_exporter": "python",
   "pygments_lexer": "ipython3",
   "version": "3.8.10"
  }
 },
 "nbformat": 4,
 "nbformat_minor": 5
}
